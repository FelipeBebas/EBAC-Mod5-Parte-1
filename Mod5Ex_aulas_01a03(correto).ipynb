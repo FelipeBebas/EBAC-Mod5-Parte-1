{
 "cells": [
  {
   "cell_type": "markdown",
   "metadata": {},
   "source": [
    "# Módulo 5 Tarefa 1\n",
    "## Base de nascidos vivos do DataSUS\n",
    "O DataSUS disponibiliza diversos arquivos de dados com relação a seus segurados, conforme a [lei da transparência de informações públicas](https://www.sisgov.com/transparencia-acesso-informacao/#:~:text=A%20Lei%20da%20Transpar%C3%AAncia%20(LC,em%20um%20site%20na%20internet.). \n",
    "\n",
    "Essas informações podem ser obtidas pela internet [aqui](http://www2.datasus.gov.br/DATASUS/index.php?area=0901&item=1). Como o processo de obtenção desses arquivos foge um pouco do nosso escopo, deixamos o arquivo SINASC_RO_2019.csv` já como vai ser encontrado no DataSUS. O dicionário de dados está no arquivo `estrutura_sinasc_para_CD.pdf` (o nome do arquivo tal qual no portal do DataSUS).\n",
    "\n",
    "### Nosso objetivo\n",
    "Queremos deixar uma base organizada para podermos estudar a relação entre partos com risco para o bebê e algumas condições como tempo de parto, consultas de pré-natal etc.\n",
    "\n",
    "#### Preparação da base\n",
    "1. Carregue a base 'SINASC_RO_2019.csv'. Conte o número de registros e o número de registros não duplicados da base. Dica: você aprendeu um método que remove duplicados, encadeie este método com um outro método que conta o número de linhas. **Há linhas duplicadas?**  \n",
    "\n",
    "2. Conte o número de valores *missing* por variável.  \n",
    "\n",
    "3. Ok, no item anterior você deve ter achado pouco prático ler a informação de tantas variáveis, muitas delas nem devem ser interesantes. Então crie uma seleção dessa base somente com as colunas que interessam. São elas:\n",
    "` \n",
    "['LOCNASC', 'IDADEMAE', 'ESTCIVMAE', 'ESCMAE', 'QTDFILVIVO', \n",
    "    'GESTACAO', 'GRAVIDEZ', 'CONSULTAS', 'APGAR5'] \n",
    "`\n",
    "Refaça a contagem de valores *missings*.  \n",
    "\n",
    "4. Apgar é uma *nota* que o pediatra dá ao bebê quando nasce de acordo com algumas características associadas principalmente à respiração. Apgar 1 e Apgar 5 são as notas 1 e 5 minutos do nascimento. Apgar5 será a nossa variável de interesse principal. Então remova todos os registros com Apgar5 não preenchido. Para esta seleção, conte novamente o número de linhas e o número de *missings*.  \n",
    "\n",
    "5. observe que as variáveis `['ESTCIVMAE', 'CONSULTAS']` possuem o código `9`, que significa *ignorado*. Vamos assumir que o não preenchido é o mesmo que o código `9`.<br>\n",
    "6. Substitua os valores faltantes da quantitativa (`QTDFILVIVO`) por zero.  \n",
    "7. Das restantes, decida que valore te parece mais adequado (um 'não preenchido' ou um valor 'mais provável' como no item anterior) e preencha. Justifique. Lembre-se de que tratamento de dados é trabalho do cientista, e que estamos tomando decisões a todo o momento - não há necessariamente certo e errado aqui.  \n",
    "8. O Apgar possui uma classificação indicando se o bebê passou por asfixia:\n",
    "- Entre 8 e 10 está em uma faixa 'normal'. \n",
    "- Entre 6 e 7, significa que o recém-nascido passou por 'asfixia leve'. \n",
    "- Entre 4 e 5 significa 'asfixia moderada'.\n",
    "- Entre 0 e 3 significa 'asfixia severa'.  \n",
    "\n",
    "Crie uma categorização dessa variável com essa codificação e calcule as frequências dessa categorização.  \n",
    "<br>\n",
    "9. Renomeie as variáveis para que fiquem no *snake case*, ou seja, em letras minúsculas, com um *underscore* entre as palávras. Dica: repare que se você não quiser criar um *dataframe* novo, você vai precisar usar a opção `inplace = True`."
   ]
  },
  {
   "cell_type": "markdown",
   "metadata": {},
   "source": [
    "1) Carregue a base 'SINASC_RO_2019.csv'. Conte o número de registros e o número de registros não duplicados da base. Dica: você aprendeu um método que remove duplicados, encadeie este método com um outro método que conta o número de linhas. Há linhas duplicadas?"
   ]
  },
  {
   "cell_type": "code",
   "execution_count": 95,
   "metadata": {},
   "outputs": [],
   "source": [
    "import pandas as pd\n",
    "import numpy as np"
   ]
  },
  {
   "cell_type": "code",
   "execution_count": 97,
   "metadata": {},
   "outputs": [
    {
     "name": "stdout",
     "output_type": "stream",
     "text": [
      "(27028, 69)\n"
     ]
    }
   ],
   "source": [
    "# 1) seu código aqui\n",
    "sinasc = pd.read_csv('SINASC_RO_2019.csv')\n",
    "print(sinasc.shape)"
   ]
  },
  {
   "cell_type": "code",
   "execution_count": 99,
   "metadata": {},
   "outputs": [
    {
     "name": "stdout",
     "output_type": "stream",
     "text": [
      "0\n"
     ]
    }
   ],
   "source": [
    "sinasc.drop_duplicates().shape\n",
    "print(sinasc.duplicated().sum()) #verificando se há duplicados pela soma de valores True\n",
    "# Não há duplicados"
   ]
  },
  {
   "cell_type": "markdown",
   "metadata": {},
   "source": [
    "2) Conte o número de valores missing por variável."
   ]
  },
  {
   "cell_type": "code",
   "execution_count": 102,
   "metadata": {},
   "outputs": [
    {
     "name": "stdout",
     "output_type": "stream",
     "text": [
      "ORIGEM              0\n",
      "CODESTAB          115\n",
      "CODMUNNASC          0\n",
      "LOCNASC             0\n",
      "IDADEMAE            0\n",
      "ESTCIVMAE         317\n",
      "ESCMAE            312\n",
      "CODOCUPMAE       2907\n",
      "QTDFILVIVO       1573\n",
      "QTDFILMORT       2098\n",
      "CODMUNRES           0\n",
      "GESTACAO         1232\n",
      "GRAVIDEZ           79\n",
      "PARTO              49\n",
      "CONSULTAS           0\n",
      "DTNASC              0\n",
      "HORANASC           21\n",
      "SEXO                4\n",
      "APGAR1             96\n",
      "APGAR5            103\n",
      "RACACOR           647\n",
      "PESO                0\n",
      "IDANOMAL          591\n",
      "DTCADASTRO          0\n",
      "CODANOMAL       26814\n",
      "NUMEROLOTE          0\n",
      "VERSAOSIST          0\n",
      "DTRECEBIM           0\n",
      "DIFDATA             0\n",
      "DTRECORIGA      27028\n",
      "NATURALMAE        298\n",
      "CODMUNNATU        298\n",
      "CODUFNATU         298\n",
      "ESCMAE2010        249\n",
      "SERIESCMAE      12710\n",
      "DTNASCMAE          40\n",
      "RACACORMAE        661\n",
      "QTDGESTANT       1212\n",
      "QTDPARTNOR       1879\n",
      "QTDPARTCES       1791\n",
      "IDADEPAI        19421\n",
      "DTULTMENST      10072\n",
      "SEMAGESTAC       1238\n",
      "TPMETESTIM       1238\n",
      "CONSPRENAT        930\n",
      "MESPRENAT        2867\n",
      "TPAPRESENT        265\n",
      "STTRABPART        947\n",
      "STCESPARTO        747\n",
      "TPNASCASSI         61\n",
      "TPFUNCRESP         67\n",
      "TPDOCRESP          14\n",
      "DTDECLARAC         52\n",
      "ESCMAEAGR1        249\n",
      "STDNEPIDEM          0\n",
      "STDNNOVA            0\n",
      "CODPAISRES          0\n",
      "TPROBSON            0\n",
      "PARIDADE            0\n",
      "KOTELCHUCK          0\n",
      "CONTADOR            0\n",
      "munResStatus        0\n",
      "munResTipo          0\n",
      "munResNome          0\n",
      "munResUf            0\n",
      "munResLat           1\n",
      "munResLon           1\n",
      "munResAlt           1\n",
      "munResArea          1\n",
      "dtype: int64\n"
     ]
    }
   ],
   "source": [
    "with pd.option_context('display.max_rows', None): #solução para imprimir a lista inteira\n",
    "    valores_NA = sinasc.isna().sum() #verificar valores missing dentro do arquivo CSV\n",
    "    print(valores_NA)"
   ]
  },
  {
   "cell_type": "markdown",
   "metadata": {},
   "source": [
    "3) No item anterior você deve ter achado pouco prático ler a informação de tantas variáveis, muitas delas nem devem ser interesantes. Então crie uma seleção dessa base somente com as colunas que interessam. São elas:  ['LOCNASC', 'IDADEMAE', 'ESTCIVMAE', 'ESCMAE', 'QTDFILVIVO',   'GESTACAO', 'GRAVIDEZ', 'CONSULTAS', 'APGAR5']  Refaça a contagem de valores missings."
   ]
  },
  {
   "cell_type": "code",
   "execution_count": 105,
   "metadata": {},
   "outputs": [
    {
     "data": {
      "text/html": [
       "<div>\n",
       "<style scoped>\n",
       "    .dataframe tbody tr th:only-of-type {\n",
       "        vertical-align: middle;\n",
       "    }\n",
       "\n",
       "    .dataframe tbody tr th {\n",
       "        vertical-align: top;\n",
       "    }\n",
       "\n",
       "    .dataframe thead th {\n",
       "        text-align: right;\n",
       "    }\n",
       "</style>\n",
       "<table border=\"1\" class=\"dataframe\">\n",
       "  <thead>\n",
       "    <tr style=\"text-align: right;\">\n",
       "      <th></th>\n",
       "      <th>LOCNASC</th>\n",
       "      <th>IDADEMAE</th>\n",
       "      <th>ESTCIVMAE</th>\n",
       "      <th>ESCMAE</th>\n",
       "      <th>QTDFILVIVO</th>\n",
       "      <th>GESTACAO</th>\n",
       "      <th>GRAVIDEZ</th>\n",
       "      <th>CONSULTAS</th>\n",
       "      <th>APGAR5</th>\n",
       "    </tr>\n",
       "  </thead>\n",
       "  <tbody>\n",
       "    <tr>\n",
       "      <th>0</th>\n",
       "      <td>1</td>\n",
       "      <td>19</td>\n",
       "      <td>5.0</td>\n",
       "      <td>8 a 11 anos</td>\n",
       "      <td>0.0</td>\n",
       "      <td>37 a 41 semanas</td>\n",
       "      <td>Única</td>\n",
       "      <td>4</td>\n",
       "      <td>10.0</td>\n",
       "    </tr>\n",
       "    <tr>\n",
       "      <th>1</th>\n",
       "      <td>1</td>\n",
       "      <td>29</td>\n",
       "      <td>2.0</td>\n",
       "      <td>8 a 11 anos</td>\n",
       "      <td>1.0</td>\n",
       "      <td>37 a 41 semanas</td>\n",
       "      <td>Única</td>\n",
       "      <td>4</td>\n",
       "      <td>9.0</td>\n",
       "    </tr>\n",
       "    <tr>\n",
       "      <th>2</th>\n",
       "      <td>1</td>\n",
       "      <td>37</td>\n",
       "      <td>9.0</td>\n",
       "      <td>8 a 11 anos</td>\n",
       "      <td>2.0</td>\n",
       "      <td>37 a 41 semanas</td>\n",
       "      <td>Única</td>\n",
       "      <td>4</td>\n",
       "      <td>10.0</td>\n",
       "    </tr>\n",
       "    <tr>\n",
       "      <th>3</th>\n",
       "      <td>1</td>\n",
       "      <td>30</td>\n",
       "      <td>5.0</td>\n",
       "      <td>12 anos ou mais</td>\n",
       "      <td>0.0</td>\n",
       "      <td>37 a 41 semanas</td>\n",
       "      <td>Única</td>\n",
       "      <td>3</td>\n",
       "      <td>10.0</td>\n",
       "    </tr>\n",
       "    <tr>\n",
       "      <th>4</th>\n",
       "      <td>1</td>\n",
       "      <td>30</td>\n",
       "      <td>2.0</td>\n",
       "      <td>8 a 11 anos</td>\n",
       "      <td>1.0</td>\n",
       "      <td>37 a 41 semanas</td>\n",
       "      <td>Única</td>\n",
       "      <td>4</td>\n",
       "      <td>10.0</td>\n",
       "    </tr>\n",
       "    <tr>\n",
       "      <th>...</th>\n",
       "      <td>...</td>\n",
       "      <td>...</td>\n",
       "      <td>...</td>\n",
       "      <td>...</td>\n",
       "      <td>...</td>\n",
       "      <td>...</td>\n",
       "      <td>...</td>\n",
       "      <td>...</td>\n",
       "      <td>...</td>\n",
       "    </tr>\n",
       "    <tr>\n",
       "      <th>27023</th>\n",
       "      <td>1</td>\n",
       "      <td>32</td>\n",
       "      <td>2.0</td>\n",
       "      <td>12 anos ou mais</td>\n",
       "      <td>1.0</td>\n",
       "      <td>32 a 36 semanas</td>\n",
       "      <td>Única</td>\n",
       "      <td>4</td>\n",
       "      <td>9.0</td>\n",
       "    </tr>\n",
       "    <tr>\n",
       "      <th>27024</th>\n",
       "      <td>1</td>\n",
       "      <td>19</td>\n",
       "      <td>1.0</td>\n",
       "      <td>8 a 11 anos</td>\n",
       "      <td>0.0</td>\n",
       "      <td>37 a 41 semanas</td>\n",
       "      <td>Única</td>\n",
       "      <td>4</td>\n",
       "      <td>9.0</td>\n",
       "    </tr>\n",
       "    <tr>\n",
       "      <th>27025</th>\n",
       "      <td>1</td>\n",
       "      <td>24</td>\n",
       "      <td>2.0</td>\n",
       "      <td>8 a 11 anos</td>\n",
       "      <td>0.0</td>\n",
       "      <td>37 a 41 semanas</td>\n",
       "      <td>Única</td>\n",
       "      <td>4</td>\n",
       "      <td>10.0</td>\n",
       "    </tr>\n",
       "    <tr>\n",
       "      <th>27026</th>\n",
       "      <td>1</td>\n",
       "      <td>21</td>\n",
       "      <td>2.0</td>\n",
       "      <td>8 a 11 anos</td>\n",
       "      <td>1.0</td>\n",
       "      <td>32 a 36 semanas</td>\n",
       "      <td>Única</td>\n",
       "      <td>4</td>\n",
       "      <td>9.0</td>\n",
       "    </tr>\n",
       "    <tr>\n",
       "      <th>27027</th>\n",
       "      <td>1</td>\n",
       "      <td>18</td>\n",
       "      <td>5.0</td>\n",
       "      <td>8 a 11 anos</td>\n",
       "      <td>1.0</td>\n",
       "      <td>37 a 41 semanas</td>\n",
       "      <td>Única</td>\n",
       "      <td>4</td>\n",
       "      <td>8.0</td>\n",
       "    </tr>\n",
       "  </tbody>\n",
       "</table>\n",
       "<p>27028 rows × 9 columns</p>\n",
       "</div>"
      ],
      "text/plain": [
       "       LOCNASC  IDADEMAE  ESTCIVMAE           ESCMAE  QTDFILVIVO  \\\n",
       "0            1        19        5.0      8 a 11 anos         0.0   \n",
       "1            1        29        2.0      8 a 11 anos         1.0   \n",
       "2            1        37        9.0      8 a 11 anos         2.0   \n",
       "3            1        30        5.0  12 anos ou mais         0.0   \n",
       "4            1        30        2.0      8 a 11 anos         1.0   \n",
       "...        ...       ...        ...              ...         ...   \n",
       "27023        1        32        2.0  12 anos ou mais         1.0   \n",
       "27024        1        19        1.0      8 a 11 anos         0.0   \n",
       "27025        1        24        2.0      8 a 11 anos         0.0   \n",
       "27026        1        21        2.0      8 a 11 anos         1.0   \n",
       "27027        1        18        5.0      8 a 11 anos         1.0   \n",
       "\n",
       "              GESTACAO GRAVIDEZ  CONSULTAS  APGAR5  \n",
       "0      37 a 41 semanas    Única          4    10.0  \n",
       "1      37 a 41 semanas    Única          4     9.0  \n",
       "2      37 a 41 semanas    Única          4    10.0  \n",
       "3      37 a 41 semanas    Única          3    10.0  \n",
       "4      37 a 41 semanas    Única          4    10.0  \n",
       "...                ...      ...        ...     ...  \n",
       "27023  32 a 36 semanas    Única          4     9.0  \n",
       "27024  37 a 41 semanas    Única          4     9.0  \n",
       "27025  37 a 41 semanas    Única          4    10.0  \n",
       "27026  32 a 36 semanas    Única          4     9.0  \n",
       "27027  37 a 41 semanas    Única          4     8.0  \n",
       "\n",
       "[27028 rows x 9 columns]"
      ]
     },
     "execution_count": 105,
     "metadata": {},
     "output_type": "execute_result"
    }
   ],
   "source": [
    "df_interesse = sinasc[['LOCNASC', 'IDADEMAE', 'ESTCIVMAE', 'ESCMAE', 'QTDFILVIVO', 'GESTACAO', 'GRAVIDEZ', 'CONSULTAS', 'APGAR5']]\n",
    "df_interesse"
   ]
  },
  {
   "cell_type": "code",
   "execution_count": 107,
   "metadata": {},
   "outputs": [
    {
     "data": {
      "text/plain": [
       "LOCNASC          0\n",
       "IDADEMAE         0\n",
       "ESTCIVMAE      317\n",
       "ESCMAE         312\n",
       "QTDFILVIVO    1573\n",
       "GESTACAO      1232\n",
       "GRAVIDEZ        79\n",
       "CONSULTAS        0\n",
       "APGAR5         103\n",
       "dtype: int64"
      ]
     },
     "execution_count": 107,
     "metadata": {},
     "output_type": "execute_result"
    }
   ],
   "source": [
    "df_interesse.isna().sum()"
   ]
  },
  {
   "cell_type": "markdown",
   "metadata": {},
   "source": [
    "4) Apgar é uma nota que o pediatra dá ao bebê quando nasce de acordo com algumas características associadas principalmente à respiração. Apgar 1 e Apgar 5 são as notas 1 e 5 minutos do nascimento. Apgar5 será a nossa variável de interesse principal. Então remova todos os registros com Apgar5 não preenchido. Para esta seleção, conte novamente o número de linhas e o número de missings."
   ]
  },
  {
   "cell_type": "code",
   "execution_count": 110,
   "metadata": {},
   "outputs": [
    {
     "data": {
      "text/plain": [
       "(27028, 9)"
      ]
     },
     "execution_count": 110,
     "metadata": {},
     "output_type": "execute_result"
    }
   ],
   "source": [
    "df_interesse.shape"
   ]
  },
  {
   "cell_type": "code",
   "execution_count": 112,
   "metadata": {},
   "outputs": [
    {
     "name": "stdout",
     "output_type": "stream",
     "text": [
      "LOCNASC          0\n",
      "IDADEMAE         0\n",
      "ESTCIVMAE      317\n",
      "ESCMAE         312\n",
      "QTDFILVIVO    1573\n",
      "GESTACAO      1232\n",
      "GRAVIDEZ        79\n",
      "CONSULTAS        0\n",
      "APGAR5         103\n",
      "dtype: int64\n"
     ]
    }
   ],
   "source": [
    "with pd.option_context('display.max_rows', None): #solução para imprimir a lista inteira\n",
    "    valores_NA_2 = df_interesse.isna().sum() #verificar valores missing da df_interesse\n",
    "    print(valores_NA_2)"
   ]
  },
  {
   "cell_type": "code",
   "execution_count": 114,
   "metadata": {},
   "outputs": [
    {
     "data": {
      "text/plain": [
       "array([10.,  9.,  7.,  0.,  8.,  4.,  3.,  6.,  5., nan,  2.,  1.])"
      ]
     },
     "execution_count": 114,
     "metadata": {},
     "output_type": "execute_result"
    }
   ],
   "source": [
    "df_interesse['APGAR5'].unique() #verificar se existe valores NA na coluna APGAR5"
   ]
  },
  {
   "cell_type": "code",
   "execution_count": 116,
   "metadata": {},
   "outputs": [
    {
     "data": {
      "text/plain": [
       "0        10.0\n",
       "1         9.0\n",
       "2        10.0\n",
       "3        10.0\n",
       "4        10.0\n",
       "         ... \n",
       "27023     9.0\n",
       "27024     9.0\n",
       "27025    10.0\n",
       "27026     9.0\n",
       "27027     8.0\n",
       "Name: APGAR5, Length: 26925, dtype: float64"
      ]
     },
     "execution_count": 116,
     "metadata": {},
     "output_type": "execute_result"
    }
   ],
   "source": [
    "df_interesse['APGAR5'].dropna() "
   ]
  },
  {
   "cell_type": "code",
   "execution_count": 118,
   "metadata": {},
   "outputs": [
    {
     "data": {
      "text/plain": [
       "25995    0.0\n",
       "5800     0.0\n",
       "24458    0.0\n",
       "14144    0.0\n",
       "19426    0.0\n",
       "        ... \n",
       "25378    NaN\n",
       "25864    NaN\n",
       "26715    NaN\n",
       "26923    NaN\n",
       "26935    NaN\n",
       "Name: APGAR5, Length: 27028, dtype: float64"
      ]
     },
     "execution_count": 118,
     "metadata": {},
     "output_type": "execute_result"
    }
   ],
   "source": [
    "df_interesse['APGAR5'].sort_values() #Conferindo se os valores NA sairam. DropNA não está funcionando corretamente!?"
   ]
  },
  {
   "cell_type": "code",
   "execution_count": 120,
   "metadata": {},
   "outputs": [
    {
     "data": {
      "text/html": [
       "<div>\n",
       "<style scoped>\n",
       "    .dataframe tbody tr th:only-of-type {\n",
       "        vertical-align: middle;\n",
       "    }\n",
       "\n",
       "    .dataframe tbody tr th {\n",
       "        vertical-align: top;\n",
       "    }\n",
       "\n",
       "    .dataframe thead th {\n",
       "        text-align: right;\n",
       "    }\n",
       "</style>\n",
       "<table border=\"1\" class=\"dataframe\">\n",
       "  <thead>\n",
       "    <tr style=\"text-align: right;\">\n",
       "      <th></th>\n",
       "      <th>LOCNASC</th>\n",
       "      <th>IDADEMAE</th>\n",
       "      <th>ESTCIVMAE</th>\n",
       "      <th>ESCMAE</th>\n",
       "      <th>QTDFILVIVO</th>\n",
       "      <th>GESTACAO</th>\n",
       "      <th>GRAVIDEZ</th>\n",
       "      <th>CONSULTAS</th>\n",
       "      <th>APGAR5</th>\n",
       "    </tr>\n",
       "  </thead>\n",
       "  <tbody>\n",
       "    <tr>\n",
       "      <th>0</th>\n",
       "      <td>1</td>\n",
       "      <td>19</td>\n",
       "      <td>5.0</td>\n",
       "      <td>8 a 11 anos</td>\n",
       "      <td>0.0</td>\n",
       "      <td>37 a 41 semanas</td>\n",
       "      <td>Única</td>\n",
       "      <td>4</td>\n",
       "      <td>10.0</td>\n",
       "    </tr>\n",
       "    <tr>\n",
       "      <th>1</th>\n",
       "      <td>1</td>\n",
       "      <td>29</td>\n",
       "      <td>2.0</td>\n",
       "      <td>8 a 11 anos</td>\n",
       "      <td>1.0</td>\n",
       "      <td>37 a 41 semanas</td>\n",
       "      <td>Única</td>\n",
       "      <td>4</td>\n",
       "      <td>9.0</td>\n",
       "    </tr>\n",
       "    <tr>\n",
       "      <th>2</th>\n",
       "      <td>1</td>\n",
       "      <td>37</td>\n",
       "      <td>9.0</td>\n",
       "      <td>8 a 11 anos</td>\n",
       "      <td>2.0</td>\n",
       "      <td>37 a 41 semanas</td>\n",
       "      <td>Única</td>\n",
       "      <td>4</td>\n",
       "      <td>10.0</td>\n",
       "    </tr>\n",
       "    <tr>\n",
       "      <th>3</th>\n",
       "      <td>1</td>\n",
       "      <td>30</td>\n",
       "      <td>5.0</td>\n",
       "      <td>12 anos ou mais</td>\n",
       "      <td>0.0</td>\n",
       "      <td>37 a 41 semanas</td>\n",
       "      <td>Única</td>\n",
       "      <td>3</td>\n",
       "      <td>10.0</td>\n",
       "    </tr>\n",
       "    <tr>\n",
       "      <th>4</th>\n",
       "      <td>1</td>\n",
       "      <td>30</td>\n",
       "      <td>2.0</td>\n",
       "      <td>8 a 11 anos</td>\n",
       "      <td>1.0</td>\n",
       "      <td>37 a 41 semanas</td>\n",
       "      <td>Única</td>\n",
       "      <td>4</td>\n",
       "      <td>10.0</td>\n",
       "    </tr>\n",
       "    <tr>\n",
       "      <th>...</th>\n",
       "      <td>...</td>\n",
       "      <td>...</td>\n",
       "      <td>...</td>\n",
       "      <td>...</td>\n",
       "      <td>...</td>\n",
       "      <td>...</td>\n",
       "      <td>...</td>\n",
       "      <td>...</td>\n",
       "      <td>...</td>\n",
       "    </tr>\n",
       "    <tr>\n",
       "      <th>27023</th>\n",
       "      <td>1</td>\n",
       "      <td>32</td>\n",
       "      <td>2.0</td>\n",
       "      <td>12 anos ou mais</td>\n",
       "      <td>1.0</td>\n",
       "      <td>32 a 36 semanas</td>\n",
       "      <td>Única</td>\n",
       "      <td>4</td>\n",
       "      <td>9.0</td>\n",
       "    </tr>\n",
       "    <tr>\n",
       "      <th>27024</th>\n",
       "      <td>1</td>\n",
       "      <td>19</td>\n",
       "      <td>1.0</td>\n",
       "      <td>8 a 11 anos</td>\n",
       "      <td>0.0</td>\n",
       "      <td>37 a 41 semanas</td>\n",
       "      <td>Única</td>\n",
       "      <td>4</td>\n",
       "      <td>9.0</td>\n",
       "    </tr>\n",
       "    <tr>\n",
       "      <th>27025</th>\n",
       "      <td>1</td>\n",
       "      <td>24</td>\n",
       "      <td>2.0</td>\n",
       "      <td>8 a 11 anos</td>\n",
       "      <td>0.0</td>\n",
       "      <td>37 a 41 semanas</td>\n",
       "      <td>Única</td>\n",
       "      <td>4</td>\n",
       "      <td>10.0</td>\n",
       "    </tr>\n",
       "    <tr>\n",
       "      <th>27026</th>\n",
       "      <td>1</td>\n",
       "      <td>21</td>\n",
       "      <td>2.0</td>\n",
       "      <td>8 a 11 anos</td>\n",
       "      <td>1.0</td>\n",
       "      <td>32 a 36 semanas</td>\n",
       "      <td>Única</td>\n",
       "      <td>4</td>\n",
       "      <td>9.0</td>\n",
       "    </tr>\n",
       "    <tr>\n",
       "      <th>27027</th>\n",
       "      <td>1</td>\n",
       "      <td>18</td>\n",
       "      <td>5.0</td>\n",
       "      <td>8 a 11 anos</td>\n",
       "      <td>1.0</td>\n",
       "      <td>37 a 41 semanas</td>\n",
       "      <td>Única</td>\n",
       "      <td>4</td>\n",
       "      <td>8.0</td>\n",
       "    </tr>\n",
       "  </tbody>\n",
       "</table>\n",
       "<p>26925 rows × 9 columns</p>\n",
       "</div>"
      ],
      "text/plain": [
       "       LOCNASC  IDADEMAE  ESTCIVMAE           ESCMAE  QTDFILVIVO  \\\n",
       "0            1        19        5.0      8 a 11 anos         0.0   \n",
       "1            1        29        2.0      8 a 11 anos         1.0   \n",
       "2            1        37        9.0      8 a 11 anos         2.0   \n",
       "3            1        30        5.0  12 anos ou mais         0.0   \n",
       "4            1        30        2.0      8 a 11 anos         1.0   \n",
       "...        ...       ...        ...              ...         ...   \n",
       "27023        1        32        2.0  12 anos ou mais         1.0   \n",
       "27024        1        19        1.0      8 a 11 anos         0.0   \n",
       "27025        1        24        2.0      8 a 11 anos         0.0   \n",
       "27026        1        21        2.0      8 a 11 anos         1.0   \n",
       "27027        1        18        5.0      8 a 11 anos         1.0   \n",
       "\n",
       "              GESTACAO GRAVIDEZ  CONSULTAS  APGAR5  \n",
       "0      37 a 41 semanas    Única          4    10.0  \n",
       "1      37 a 41 semanas    Única          4     9.0  \n",
       "2      37 a 41 semanas    Única          4    10.0  \n",
       "3      37 a 41 semanas    Única          3    10.0  \n",
       "4      37 a 41 semanas    Única          4    10.0  \n",
       "...                ...      ...        ...     ...  \n",
       "27023  32 a 36 semanas    Única          4     9.0  \n",
       "27024  37 a 41 semanas    Única          4     9.0  \n",
       "27025  37 a 41 semanas    Única          4    10.0  \n",
       "27026  32 a 36 semanas    Única          4     9.0  \n",
       "27027  37 a 41 semanas    Única          4     8.0  \n",
       "\n",
       "[26925 rows x 9 columns]"
      ]
     },
     "execution_count": 120,
     "metadata": {},
     "output_type": "execute_result"
    }
   ],
   "source": [
    "df_limpo = df_interesse.dropna(how='any', subset=['APGAR5'], inplace=False) #Solução alternativa para remover os valores NA\n",
    "df_limpo"
   ]
  },
  {
   "cell_type": "code",
   "execution_count": 122,
   "metadata": {},
   "outputs": [
    {
     "data": {
      "text/plain": [
       "25995     0.0\n",
       "5800      0.0\n",
       "24458     0.0\n",
       "14144     0.0\n",
       "19426     0.0\n",
       "         ... \n",
       "17928    10.0\n",
       "17929    10.0\n",
       "17930    10.0\n",
       "17932    10.0\n",
       "0        10.0\n",
       "Name: APGAR5, Length: 26925, dtype: float64"
      ]
     },
     "execution_count": 122,
     "metadata": {},
     "output_type": "execute_result"
    }
   ],
   "source": [
    "df_limpo['APGAR5'].sort_values() #os valores NA foram removidos"
   ]
  },
  {
   "cell_type": "code",
   "execution_count": 124,
   "metadata": {},
   "outputs": [
    {
     "data": {
      "text/plain": [
       "array([10.,  9.,  7.,  0.,  8.,  4.,  3.,  6.,  5.,  2.,  1.])"
      ]
     },
     "execution_count": 124,
     "metadata": {},
     "output_type": "execute_result"
    }
   ],
   "source": [
    "df_limpo['APGAR5'].unique() #verificar novamente se existe valores NA na coluna APGAR5"
   ]
  },
  {
   "cell_type": "markdown",
   "metadata": {},
   "source": [
    "5) observe que as variáveis ['ESTCIVMAE', 'CONSULTAS'] possuem o código 9, que significa ignorado. Vamos assumir que o não preenchido é o mesmo que o código 9."
   ]
  },
  {
   "cell_type": "code",
   "execution_count": 127,
   "metadata": {},
   "outputs": [
    {
     "name": "stdout",
     "output_type": "stream",
     "text": [
      "[ 5.  2.  9.  1.  4. nan  3.]\n",
      "[4 3 2 1 9]\n"
     ]
    }
   ],
   "source": [
    "print(df_limpo['ESTCIVMAE'].unique()) #verificar se existem valores NA em ambas as colunas\n",
    "print(df_limpo['CONSULTAS'].unique())"
   ]
  },
  {
   "cell_type": "code",
   "execution_count": 129,
   "metadata": {},
   "outputs": [
    {
     "data": {
      "text/plain": [
       "0        5.0\n",
       "1        2.0\n",
       "2        9.0\n",
       "3        5.0\n",
       "4        2.0\n",
       "        ... \n",
       "27023    2.0\n",
       "27024    1.0\n",
       "27025    2.0\n",
       "27026    2.0\n",
       "27027    5.0\n",
       "Name: ESTCIVMAE, Length: 26925, dtype: float64"
      ]
     },
     "execution_count": 129,
     "metadata": {},
     "output_type": "execute_result"
    }
   ],
   "source": [
    "df_6 = df_limpo['ESTCIVMAE'].fillna(9) #os valores A foram substituidos\n",
    "df_6"
   ]
  },
  {
   "cell_type": "code",
   "execution_count": 131,
   "metadata": {},
   "outputs": [
    {
     "data": {
      "text/plain": [
       "array([5., 2., 9., 1., 4., 3.])"
      ]
     },
     "execution_count": 131,
     "metadata": {},
     "output_type": "execute_result"
    }
   ],
   "source": [
    "df_6.unique()"
   ]
  },
  {
   "cell_type": "markdown",
   "metadata": {},
   "source": [
    "6) Substitua os valores faltantes da quantitativa (QTDFILVIVO) por zero."
   ]
  },
  {
   "cell_type": "code",
   "execution_count": 134,
   "metadata": {},
   "outputs": [
    {
     "data": {
      "text/plain": [
       "array([ 0.,  1.,  2.,  3., nan,  4.,  6.,  5.,  7., 12.,  9., 11.,  8.,\n",
       "       30., 10., 14.])"
      ]
     },
     "execution_count": 134,
     "metadata": {},
     "output_type": "execute_result"
    }
   ],
   "source": [
    "df_limpo['QTDFILVIVO'].unique() #verificar se existem valores NA"
   ]
  },
  {
   "cell_type": "code",
   "execution_count": 136,
   "metadata": {},
   "outputs": [],
   "source": [
    "df_7 = df_limpo['QTDFILVIVO'].fillna(0)"
   ]
  },
  {
   "cell_type": "code",
   "execution_count": 138,
   "metadata": {},
   "outputs": [
    {
     "data": {
      "text/plain": [
       "array([ 0.,  1.,  2.,  3.,  4.,  6.,  5.,  7., 12.,  9., 11.,  8., 30.,\n",
       "       10., 14.])"
      ]
     },
     "execution_count": 138,
     "metadata": {},
     "output_type": "execute_result"
    }
   ],
   "source": [
    "df_7.unique() #valores NA foram substituidos por 0"
   ]
  },
  {
   "cell_type": "markdown",
   "metadata": {},
   "source": [
    "7) Das restantes, decida que valore te parece mais adequado (um 'não preenchido' ou um valor 'mais provável' como no item anterior) e preencha. Justifique. Lembre-se de que tratamento de dados é trabalho do cientista, e que estamos tomando decisões a todo o momento - não há necessariamente certo e errado aqui."
   ]
  },
  {
   "cell_type": "code",
   "execution_count": 141,
   "metadata": {},
   "outputs": [
    {
     "data": {
      "text/html": [
       "<div>\n",
       "<style scoped>\n",
       "    .dataframe tbody tr th:only-of-type {\n",
       "        vertical-align: middle;\n",
       "    }\n",
       "\n",
       "    .dataframe tbody tr th {\n",
       "        vertical-align: top;\n",
       "    }\n",
       "\n",
       "    .dataframe thead th {\n",
       "        text-align: right;\n",
       "    }\n",
       "</style>\n",
       "<table border=\"1\" class=\"dataframe\">\n",
       "  <thead>\n",
       "    <tr style=\"text-align: right;\">\n",
       "      <th></th>\n",
       "      <th>LOCNASC</th>\n",
       "      <th>IDADEMAE</th>\n",
       "      <th>ESCMAE</th>\n",
       "      <th>GESTACAO</th>\n",
       "      <th>GRAVIDEZ</th>\n",
       "      <th>CONSULTAS</th>\n",
       "    </tr>\n",
       "  </thead>\n",
       "  <tbody>\n",
       "    <tr>\n",
       "      <th>0</th>\n",
       "      <td>1</td>\n",
       "      <td>19</td>\n",
       "      <td>8 a 11 anos</td>\n",
       "      <td>37 a 41 semanas</td>\n",
       "      <td>Única</td>\n",
       "      <td>4</td>\n",
       "    </tr>\n",
       "    <tr>\n",
       "      <th>1</th>\n",
       "      <td>1</td>\n",
       "      <td>29</td>\n",
       "      <td>8 a 11 anos</td>\n",
       "      <td>37 a 41 semanas</td>\n",
       "      <td>Única</td>\n",
       "      <td>4</td>\n",
       "    </tr>\n",
       "    <tr>\n",
       "      <th>2</th>\n",
       "      <td>1</td>\n",
       "      <td>37</td>\n",
       "      <td>8 a 11 anos</td>\n",
       "      <td>37 a 41 semanas</td>\n",
       "      <td>Única</td>\n",
       "      <td>4</td>\n",
       "    </tr>\n",
       "    <tr>\n",
       "      <th>3</th>\n",
       "      <td>1</td>\n",
       "      <td>30</td>\n",
       "      <td>12 anos ou mais</td>\n",
       "      <td>37 a 41 semanas</td>\n",
       "      <td>Única</td>\n",
       "      <td>3</td>\n",
       "    </tr>\n",
       "    <tr>\n",
       "      <th>4</th>\n",
       "      <td>1</td>\n",
       "      <td>30</td>\n",
       "      <td>8 a 11 anos</td>\n",
       "      <td>37 a 41 semanas</td>\n",
       "      <td>Única</td>\n",
       "      <td>4</td>\n",
       "    </tr>\n",
       "  </tbody>\n",
       "</table>\n",
       "</div>"
      ],
      "text/plain": [
       "   LOCNASC  IDADEMAE           ESCMAE         GESTACAO GRAVIDEZ  CONSULTAS\n",
       "0        1        19      8 a 11 anos  37 a 41 semanas    Única          4\n",
       "1        1        29      8 a 11 anos  37 a 41 semanas    Única          4\n",
       "2        1        37      8 a 11 anos  37 a 41 semanas    Única          4\n",
       "3        1        30  12 anos ou mais  37 a 41 semanas    Única          3\n",
       "4        1        30      8 a 11 anos  37 a 41 semanas    Única          4"
      ]
     },
     "execution_count": 141,
     "metadata": {},
     "output_type": "execute_result"
    }
   ],
   "source": [
    "#Colunas restantes: LOCNASC\tIDADEMAE ESCMAE\tGESTACAO GRAVIDEZ CONSULTAS\n",
    "df_restante = df_limpo[['LOCNASC', 'IDADEMAE', 'ESCMAE', 'GESTACAO', 'GRAVIDEZ', 'CONSULTAS']]\n",
    "df_restante.head(5)"
   ]
  },
  {
   "cell_type": "code",
   "execution_count": 143,
   "metadata": {},
   "outputs": [
    {
     "name": "stdout",
     "output_type": "stream",
     "text": [
      "LOCNASC: [1 4 2 3]\n",
      "IDADEMAE [19 29 37 30 33 27 20 31 21 18 24 22 25 26 34 23 28 14 17 40 16 35 39 38\n",
      " 32 36 41 15 42 43 12 13 47 45 44 11 53 46 51 52]\n",
      "ESCMAE ['8 a 11 anos' '12 anos ou mais' '1 a 3 anos' '4 a 7 anos' nan 'Nenhuma']\n",
      "GESTACAO ['37 a 41 semanas' '42 semanas e mais' '32 a 36 semanas' '22 a 27 semanas'\n",
      " '28 a 31 semanas' nan 'Menos de 22 semanas']\n",
      "GRAVIDEZ ['Única' 'Dupla' nan 'Tríplice e mais']\n",
      "CONSULTAS [4 3 2 1 9]\n"
     ]
    }
   ],
   "source": [
    "#vamos entender melhor valores na nas colunas restantes\n",
    "print('LOCNASC:', df_restante['LOCNASC'].unique()) #não possui NA\n",
    "print('IDADEMAE', df_restante['IDADEMAE'].unique()) #não possui NA\n",
    "print('ESCMAE', df_restante['ESCMAE'].unique()) #possui\n",
    "print('GESTACAO', df_restante['GESTACAO'].unique()) #possui\n",
    "print('GRAVIDEZ', df_restante['GRAVIDEZ'].unique()) #possui\n",
    "print('CONSULTAS', df_restante['CONSULTAS'].unique()) #não possui NA"
   ]
  },
  {
   "cell_type": "code",
   "execution_count": 145,
   "metadata": {},
   "outputs": [],
   "source": [
    "#as colunas que possuem NA são variáveis tipo categóricas. \n",
    "#Para a coluna ESCMAE vamos mesclar os valores nan com \"Nenhuma\".\n",
    "df7 = df_restante['ESCMAE'].replace(np.nan, 'Nenhuma')"
   ]
  },
  {
   "cell_type": "code",
   "execution_count": 147,
   "metadata": {},
   "outputs": [
    {
     "data": {
      "text/plain": [
       "array(['8 a 11 anos', '12 anos ou mais', '1 a 3 anos', '4 a 7 anos',\n",
       "       'Nenhuma'], dtype=object)"
      ]
     },
     "execution_count": 147,
     "metadata": {},
     "output_type": "execute_result"
    }
   ],
   "source": [
    "df7.unique()"
   ]
  },
  {
   "cell_type": "code",
   "execution_count": 149,
   "metadata": {},
   "outputs": [],
   "source": [
    "#Para a coluna GRAVIDEZ vamos substituir os valores nan por \"Não informado\".\n",
    "df8 = df_restante['GRAVIDEZ']\n",
    "df8 = df_restante['GRAVIDEZ'].replace(np.nan, 'Não informado')"
   ]
  },
  {
   "cell_type": "code",
   "execution_count": 151,
   "metadata": {},
   "outputs": [
    {
     "data": {
      "text/plain": [
       "array(['Única', 'Dupla', 'Não informado', 'Tríplice e mais'], dtype=object)"
      ]
     },
     "execution_count": 151,
     "metadata": {},
     "output_type": "execute_result"
    }
   ],
   "source": [
    "df8.unique()"
   ]
  },
  {
   "cell_type": "code",
   "execution_count": 153,
   "metadata": {},
   "outputs": [
    {
     "data": {
      "text/plain": [
       "0        37 a 41 semanas\n",
       "1        37 a 41 semanas\n",
       "2        37 a 41 semanas\n",
       "3        37 a 41 semanas\n",
       "4        37 a 41 semanas\n",
       "              ...       \n",
       "27023    32 a 36 semanas\n",
       "27024    37 a 41 semanas\n",
       "27025    37 a 41 semanas\n",
       "27026    32 a 36 semanas\n",
       "27027    37 a 41 semanas\n",
       "Name: GESTACAO, Length: 26925, dtype: object"
      ]
     },
     "execution_count": 153,
     "metadata": {},
     "output_type": "execute_result"
    }
   ],
   "source": [
    "#A coluna GESTACAO é categórica, porém trata de intervalos numéricos. Por isso acredito ser mais seguro apresentar a informação como \"não informado\" do que aplicar matemática para supor valores.\n",
    "df9 = df_restante['GESTACAO'].replace(np.nan, 'Não informado')\n",
    "df9"
   ]
  },
  {
   "cell_type": "code",
   "execution_count": 155,
   "metadata": {},
   "outputs": [
    {
     "data": {
      "text/plain": [
       "array(['37 a 41 semanas', '42 semanas e mais', '32 a 36 semanas',\n",
       "       '22 a 27 semanas', '28 a 31 semanas', 'Não informado',\n",
       "       'Menos de 22 semanas'], dtype=object)"
      ]
     },
     "execution_count": 155,
     "metadata": {},
     "output_type": "execute_result"
    }
   ],
   "source": [
    "df9.unique()"
   ]
  },
  {
   "cell_type": "markdown",
   "metadata": {},
   "source": [
    "8) O Apgar possui uma classificação indicando se o bebê passou por asfixia:\n",
    "\n",
    "Entre 8 e 10 está em uma faixa 'normal'.\n",
    "Entre 6 e 7, significa que o recém-nascido passou por 'asfixia leve'.\n",
    "Entre 4 e 5 significa 'asfixia moderada'.\n",
    "Entre 0 e 3 significa 'asfixia severa'.\n",
    "Crie uma categorização dessa variável com essa codificação e calcule as frequências dessa categorização."
   ]
  },
  {
   "cell_type": "code",
   "execution_count": 158,
   "metadata": {},
   "outputs": [
    {
     "data": {
      "text/plain": [
       "array([10.,  9.,  7.,  0.,  8.,  4.,  3.,  6.,  5.,  2.,  1.])"
      ]
     },
     "execution_count": 158,
     "metadata": {},
     "output_type": "execute_result"
    }
   ],
   "source": [
    "df_limpo['APGAR5'].unique() #conferindo se não existe valores NA "
   ]
  },
  {
   "cell_type": "code",
   "execution_count": 160,
   "metadata": {},
   "outputs": [],
   "source": [
    " intervalos = [0, 3, 5, 7, 10] # Defina os intervalos e rótulos para usar o método pd.cut\n",
    "rotulos = ['Asfixia Severa', 'Asfixia Moderada', 'Asfixia Leve', 'Normal']"
   ]
  },
  {
   "cell_type": "code",
   "execution_count": 162,
   "metadata": {},
   "outputs": [
    {
     "name": "stderr",
     "output_type": "stream",
     "text": [
      "C:\\Users\\Felipe\\AppData\\Local\\Temp\\ipykernel_13388\\1097213357.py:1: SettingWithCopyWarning: \n",
      "A value is trying to be set on a copy of a slice from a DataFrame.\n",
      "Try using .loc[row_indexer,col_indexer] = value instead\n",
      "\n",
      "See the caveats in the documentation: https://pandas.pydata.org/pandas-docs/stable/user_guide/indexing.html#returning-a-view-versus-a-copy\n",
      "  df_limpo['SCORE_APGAR'] = pd.cut(df_limpo['APGAR5'], bins=intervalos, labels=rotulos, include_lowest=True) #recortar a tabela APGAR5, categorizar e incluir o 0 como menor número na contagem\n"
     ]
    }
   ],
   "source": [
    "df_limpo['SCORE_APGAR'] = pd.cut(df_limpo['APGAR5'], bins=intervalos, labels=rotulos, include_lowest=True) #recortar a tabela APGAR5, categorizar e incluir o 0 como menor número na contagem"
   ]
  },
  {
   "cell_type": "code",
   "execution_count": 164,
   "metadata": {},
   "outputs": [
    {
     "name": "stdout",
     "output_type": "stream",
     "text": [
      "SCORE_APGAR\n",
      "Asfixia Severa         74\n",
      "Asfixia Moderada       68\n",
      "Asfixia Leve          320\n",
      "Normal              26463\n",
      "Name: count, dtype: int64\n",
      "SCORE_APGAR\n",
      "Asfixia Severa       0.274838\n",
      "Asfixia Moderada     0.252553\n",
      "Asfixia Leve         1.188487\n",
      "Normal              98.284123\n",
      "Name: proportion, dtype: float64\n"
     ]
    }
   ],
   "source": [
    "contagem = df_limpo['SCORE_APGAR'].value_counts().sort_index()\n",
    "frequencia = df_limpo['SCORE_APGAR'].value_counts(normalize=True).sort_index() * 100 #podemos usar o parametro normalize para calcular a frequência relativa\n",
    "print(contagem)\n",
    "print(frequencia)"
   ]
  },
  {
   "cell_type": "code",
   "execution_count": 166,
   "metadata": {},
   "outputs": [],
   "source": [
    "#criando uma série para cada coluna \n",
    "score_series = pd.Series(contagem.index, name='SCORE_APGAR') #vamos usar a coluna SCORE_APGAR como índice\n",
    "contagem_series = pd.Series(contagem.values, name='Contagem')\n",
    "frequencia_series = pd.Series(frequencia.values, name='Frequencia')"
   ]
  },
  {
   "cell_type": "code",
   "execution_count": 168,
   "metadata": {},
   "outputs": [],
   "source": [
    "resultados = pd.concat([score_series, contagem_series, frequencia_series], axis=1)"
   ]
  },
  {
   "cell_type": "code",
   "execution_count": 170,
   "metadata": {},
   "outputs": [
    {
     "data": {
      "text/html": [
       "<div>\n",
       "<style scoped>\n",
       "    .dataframe tbody tr th:only-of-type {\n",
       "        vertical-align: middle;\n",
       "    }\n",
       "\n",
       "    .dataframe tbody tr th {\n",
       "        vertical-align: top;\n",
       "    }\n",
       "\n",
       "    .dataframe thead th {\n",
       "        text-align: right;\n",
       "    }\n",
       "</style>\n",
       "<table border=\"1\" class=\"dataframe\">\n",
       "  <thead>\n",
       "    <tr style=\"text-align: right;\">\n",
       "      <th></th>\n",
       "      <th>SCORE_APGAR</th>\n",
       "      <th>Contagem</th>\n",
       "      <th>Frequencia</th>\n",
       "    </tr>\n",
       "  </thead>\n",
       "  <tbody>\n",
       "    <tr>\n",
       "      <th>0</th>\n",
       "      <td>Asfixia Severa</td>\n",
       "      <td>74</td>\n",
       "      <td>0.274838</td>\n",
       "    </tr>\n",
       "    <tr>\n",
       "      <th>1</th>\n",
       "      <td>Asfixia Moderada</td>\n",
       "      <td>68</td>\n",
       "      <td>0.252553</td>\n",
       "    </tr>\n",
       "    <tr>\n",
       "      <th>2</th>\n",
       "      <td>Asfixia Leve</td>\n",
       "      <td>320</td>\n",
       "      <td>1.188487</td>\n",
       "    </tr>\n",
       "    <tr>\n",
       "      <th>3</th>\n",
       "      <td>Normal</td>\n",
       "      <td>26463</td>\n",
       "      <td>98.284123</td>\n",
       "    </tr>\n",
       "  </tbody>\n",
       "</table>\n",
       "</div>"
      ],
      "text/plain": [
       "        SCORE_APGAR  Contagem  Frequencia\n",
       "0    Asfixia Severa        74    0.274838\n",
       "1  Asfixia Moderada        68    0.252553\n",
       "2      Asfixia Leve       320    1.188487\n",
       "3            Normal     26463   98.284123"
      ]
     },
     "execution_count": 170,
     "metadata": {},
     "output_type": "execute_result"
    }
   ],
   "source": [
    "resultados"
   ]
  },
  {
   "cell_type": "markdown",
   "metadata": {},
   "source": [
    "9) Renomeie as variáveis para que fiquem no snake case, ou seja, em letras minúsculas, com um underscore entre as palávras. Dica: repare que se você não quiser criar um dataframe novo, você vai precisar usar a opção inplace = True."
   ]
  },
  {
   "cell_type": "code",
   "execution_count": 176,
   "metadata": {},
   "outputs": [
    {
     "data": {
      "text/html": [
       "<div>\n",
       "<style scoped>\n",
       "    .dataframe tbody tr th:only-of-type {\n",
       "        vertical-align: middle;\n",
       "    }\n",
       "\n",
       "    .dataframe tbody tr th {\n",
       "        vertical-align: top;\n",
       "    }\n",
       "\n",
       "    .dataframe thead th {\n",
       "        text-align: right;\n",
       "    }\n",
       "</style>\n",
       "<table border=\"1\" class=\"dataframe\">\n",
       "  <thead>\n",
       "    <tr style=\"text-align: right;\">\n",
       "      <th></th>\n",
       "      <th>LOCNASC</th>\n",
       "      <th>IDADEMAE</th>\n",
       "      <th>ESTCIVMAE</th>\n",
       "      <th>ESCMAE</th>\n",
       "      <th>QTDFILVIVO</th>\n",
       "      <th>GESTACAO</th>\n",
       "      <th>GRAVIDEZ</th>\n",
       "      <th>CONSULTAS</th>\n",
       "      <th>APGAR5</th>\n",
       "      <th>SCORE_APGAR</th>\n",
       "    </tr>\n",
       "  </thead>\n",
       "  <tbody>\n",
       "    <tr>\n",
       "      <th>0</th>\n",
       "      <td>1</td>\n",
       "      <td>19</td>\n",
       "      <td>5.0</td>\n",
       "      <td>8 a 11 anos</td>\n",
       "      <td>0.0</td>\n",
       "      <td>37 a 41 semanas</td>\n",
       "      <td>Única</td>\n",
       "      <td>4</td>\n",
       "      <td>10.0</td>\n",
       "      <td>Normal</td>\n",
       "    </tr>\n",
       "    <tr>\n",
       "      <th>1</th>\n",
       "      <td>1</td>\n",
       "      <td>29</td>\n",
       "      <td>2.0</td>\n",
       "      <td>8 a 11 anos</td>\n",
       "      <td>1.0</td>\n",
       "      <td>37 a 41 semanas</td>\n",
       "      <td>Única</td>\n",
       "      <td>4</td>\n",
       "      <td>9.0</td>\n",
       "      <td>Normal</td>\n",
       "    </tr>\n",
       "    <tr>\n",
       "      <th>2</th>\n",
       "      <td>1</td>\n",
       "      <td>37</td>\n",
       "      <td>9.0</td>\n",
       "      <td>8 a 11 anos</td>\n",
       "      <td>2.0</td>\n",
       "      <td>37 a 41 semanas</td>\n",
       "      <td>Única</td>\n",
       "      <td>4</td>\n",
       "      <td>10.0</td>\n",
       "      <td>Normal</td>\n",
       "    </tr>\n",
       "    <tr>\n",
       "      <th>3</th>\n",
       "      <td>1</td>\n",
       "      <td>30</td>\n",
       "      <td>5.0</td>\n",
       "      <td>12 anos ou mais</td>\n",
       "      <td>0.0</td>\n",
       "      <td>37 a 41 semanas</td>\n",
       "      <td>Única</td>\n",
       "      <td>3</td>\n",
       "      <td>10.0</td>\n",
       "      <td>Normal</td>\n",
       "    </tr>\n",
       "    <tr>\n",
       "      <th>4</th>\n",
       "      <td>1</td>\n",
       "      <td>30</td>\n",
       "      <td>2.0</td>\n",
       "      <td>8 a 11 anos</td>\n",
       "      <td>1.0</td>\n",
       "      <td>37 a 41 semanas</td>\n",
       "      <td>Única</td>\n",
       "      <td>4</td>\n",
       "      <td>10.0</td>\n",
       "      <td>Normal</td>\n",
       "    </tr>\n",
       "    <tr>\n",
       "      <th>...</th>\n",
       "      <td>...</td>\n",
       "      <td>...</td>\n",
       "      <td>...</td>\n",
       "      <td>...</td>\n",
       "      <td>...</td>\n",
       "      <td>...</td>\n",
       "      <td>...</td>\n",
       "      <td>...</td>\n",
       "      <td>...</td>\n",
       "      <td>...</td>\n",
       "    </tr>\n",
       "    <tr>\n",
       "      <th>27023</th>\n",
       "      <td>1</td>\n",
       "      <td>32</td>\n",
       "      <td>2.0</td>\n",
       "      <td>12 anos ou mais</td>\n",
       "      <td>1.0</td>\n",
       "      <td>32 a 36 semanas</td>\n",
       "      <td>Única</td>\n",
       "      <td>4</td>\n",
       "      <td>9.0</td>\n",
       "      <td>Normal</td>\n",
       "    </tr>\n",
       "    <tr>\n",
       "      <th>27024</th>\n",
       "      <td>1</td>\n",
       "      <td>19</td>\n",
       "      <td>1.0</td>\n",
       "      <td>8 a 11 anos</td>\n",
       "      <td>0.0</td>\n",
       "      <td>37 a 41 semanas</td>\n",
       "      <td>Única</td>\n",
       "      <td>4</td>\n",
       "      <td>9.0</td>\n",
       "      <td>Normal</td>\n",
       "    </tr>\n",
       "    <tr>\n",
       "      <th>27025</th>\n",
       "      <td>1</td>\n",
       "      <td>24</td>\n",
       "      <td>2.0</td>\n",
       "      <td>8 a 11 anos</td>\n",
       "      <td>0.0</td>\n",
       "      <td>37 a 41 semanas</td>\n",
       "      <td>Única</td>\n",
       "      <td>4</td>\n",
       "      <td>10.0</td>\n",
       "      <td>Normal</td>\n",
       "    </tr>\n",
       "    <tr>\n",
       "      <th>27026</th>\n",
       "      <td>1</td>\n",
       "      <td>21</td>\n",
       "      <td>2.0</td>\n",
       "      <td>8 a 11 anos</td>\n",
       "      <td>1.0</td>\n",
       "      <td>32 a 36 semanas</td>\n",
       "      <td>Única</td>\n",
       "      <td>4</td>\n",
       "      <td>9.0</td>\n",
       "      <td>Normal</td>\n",
       "    </tr>\n",
       "    <tr>\n",
       "      <th>27027</th>\n",
       "      <td>1</td>\n",
       "      <td>18</td>\n",
       "      <td>5.0</td>\n",
       "      <td>8 a 11 anos</td>\n",
       "      <td>1.0</td>\n",
       "      <td>37 a 41 semanas</td>\n",
       "      <td>Única</td>\n",
       "      <td>4</td>\n",
       "      <td>8.0</td>\n",
       "      <td>Normal</td>\n",
       "    </tr>\n",
       "  </tbody>\n",
       "</table>\n",
       "<p>26925 rows × 10 columns</p>\n",
       "</div>"
      ],
      "text/plain": [
       "       LOCNASC  IDADEMAE  ESTCIVMAE           ESCMAE  QTDFILVIVO  \\\n",
       "0            1        19        5.0      8 a 11 anos         0.0   \n",
       "1            1        29        2.0      8 a 11 anos         1.0   \n",
       "2            1        37        9.0      8 a 11 anos         2.0   \n",
       "3            1        30        5.0  12 anos ou mais         0.0   \n",
       "4            1        30        2.0      8 a 11 anos         1.0   \n",
       "...        ...       ...        ...              ...         ...   \n",
       "27023        1        32        2.0  12 anos ou mais         1.0   \n",
       "27024        1        19        1.0      8 a 11 anos         0.0   \n",
       "27025        1        24        2.0      8 a 11 anos         0.0   \n",
       "27026        1        21        2.0      8 a 11 anos         1.0   \n",
       "27027        1        18        5.0      8 a 11 anos         1.0   \n",
       "\n",
       "              GESTACAO GRAVIDEZ  CONSULTAS  APGAR5 SCORE_APGAR  \n",
       "0      37 a 41 semanas    Única          4    10.0      Normal  \n",
       "1      37 a 41 semanas    Única          4     9.0      Normal  \n",
       "2      37 a 41 semanas    Única          4    10.0      Normal  \n",
       "3      37 a 41 semanas    Única          3    10.0      Normal  \n",
       "4      37 a 41 semanas    Única          4    10.0      Normal  \n",
       "...                ...      ...        ...     ...         ...  \n",
       "27023  32 a 36 semanas    Única          4     9.0      Normal  \n",
       "27024  37 a 41 semanas    Única          4     9.0      Normal  \n",
       "27025  37 a 41 semanas    Única          4    10.0      Normal  \n",
       "27026  32 a 36 semanas    Única          4     9.0      Normal  \n",
       "27027  37 a 41 semanas    Única          4     8.0      Normal  \n",
       "\n",
       "[26925 rows x 10 columns]"
      ]
     },
     "execution_count": 176,
     "metadata": {},
     "output_type": "execute_result"
    }
   ],
   "source": [
    "df_limpo"
   ]
  },
  {
   "cell_type": "code",
   "execution_count": 180,
   "metadata": {},
   "outputs": [],
   "source": [
    "df_limpo_lowercase = df_limpo.columns = df_limpo.columns.str.lower()"
   ]
  },
  {
   "cell_type": "code",
   "execution_count": 184,
   "metadata": {},
   "outputs": [
    {
     "name": "stdout",
     "output_type": "stream",
     "text": [
      "Index(['locnasc', 'idademae', 'estcivmae', 'escmae', 'qtdfilvivo', 'gestacao',\n",
      "       'gravidez', 'consultas', 'apgar5', 'score_apgar'],\n",
      "      dtype='object')\n"
     ]
    }
   ],
   "source": [
    "print(df_limpo_lowercase)"
   ]
  },
  {
   "cell_type": "code",
   "execution_count": 188,
   "metadata": {},
   "outputs": [
    {
     "data": {
      "text/html": [
       "<div>\n",
       "<style scoped>\n",
       "    .dataframe tbody tr th:only-of-type {\n",
       "        vertical-align: middle;\n",
       "    }\n",
       "\n",
       "    .dataframe tbody tr th {\n",
       "        vertical-align: top;\n",
       "    }\n",
       "\n",
       "    .dataframe thead th {\n",
       "        text-align: right;\n",
       "    }\n",
       "</style>\n",
       "<table border=\"1\" class=\"dataframe\">\n",
       "  <thead>\n",
       "    <tr style=\"text-align: right;\">\n",
       "      <th></th>\n",
       "      <th>locnasc</th>\n",
       "      <th>idademae</th>\n",
       "      <th>estcivmae</th>\n",
       "      <th>escmae</th>\n",
       "      <th>qtdfilvivo</th>\n",
       "      <th>gestacao</th>\n",
       "      <th>gravidez</th>\n",
       "      <th>consultas</th>\n",
       "      <th>apgar5</th>\n",
       "      <th>score_apgar</th>\n",
       "    </tr>\n",
       "  </thead>\n",
       "  <tbody>\n",
       "    <tr>\n",
       "      <th>0</th>\n",
       "      <td>1</td>\n",
       "      <td>19</td>\n",
       "      <td>5.0</td>\n",
       "      <td>8 a 11 anos</td>\n",
       "      <td>0.0</td>\n",
       "      <td>37 a 41 semanas</td>\n",
       "      <td>Única</td>\n",
       "      <td>4</td>\n",
       "      <td>10.0</td>\n",
       "      <td>Normal</td>\n",
       "    </tr>\n",
       "    <tr>\n",
       "      <th>1</th>\n",
       "      <td>1</td>\n",
       "      <td>29</td>\n",
       "      <td>2.0</td>\n",
       "      <td>8 a 11 anos</td>\n",
       "      <td>1.0</td>\n",
       "      <td>37 a 41 semanas</td>\n",
       "      <td>Única</td>\n",
       "      <td>4</td>\n",
       "      <td>9.0</td>\n",
       "      <td>Normal</td>\n",
       "    </tr>\n",
       "    <tr>\n",
       "      <th>2</th>\n",
       "      <td>1</td>\n",
       "      <td>37</td>\n",
       "      <td>9.0</td>\n",
       "      <td>8 a 11 anos</td>\n",
       "      <td>2.0</td>\n",
       "      <td>37 a 41 semanas</td>\n",
       "      <td>Única</td>\n",
       "      <td>4</td>\n",
       "      <td>10.0</td>\n",
       "      <td>Normal</td>\n",
       "    </tr>\n",
       "    <tr>\n",
       "      <th>3</th>\n",
       "      <td>1</td>\n",
       "      <td>30</td>\n",
       "      <td>5.0</td>\n",
       "      <td>12 anos ou mais</td>\n",
       "      <td>0.0</td>\n",
       "      <td>37 a 41 semanas</td>\n",
       "      <td>Única</td>\n",
       "      <td>3</td>\n",
       "      <td>10.0</td>\n",
       "      <td>Normal</td>\n",
       "    </tr>\n",
       "    <tr>\n",
       "      <th>4</th>\n",
       "      <td>1</td>\n",
       "      <td>30</td>\n",
       "      <td>2.0</td>\n",
       "      <td>8 a 11 anos</td>\n",
       "      <td>1.0</td>\n",
       "      <td>37 a 41 semanas</td>\n",
       "      <td>Única</td>\n",
       "      <td>4</td>\n",
       "      <td>10.0</td>\n",
       "      <td>Normal</td>\n",
       "    </tr>\n",
       "    <tr>\n",
       "      <th>...</th>\n",
       "      <td>...</td>\n",
       "      <td>...</td>\n",
       "      <td>...</td>\n",
       "      <td>...</td>\n",
       "      <td>...</td>\n",
       "      <td>...</td>\n",
       "      <td>...</td>\n",
       "      <td>...</td>\n",
       "      <td>...</td>\n",
       "      <td>...</td>\n",
       "    </tr>\n",
       "    <tr>\n",
       "      <th>27023</th>\n",
       "      <td>1</td>\n",
       "      <td>32</td>\n",
       "      <td>2.0</td>\n",
       "      <td>12 anos ou mais</td>\n",
       "      <td>1.0</td>\n",
       "      <td>32 a 36 semanas</td>\n",
       "      <td>Única</td>\n",
       "      <td>4</td>\n",
       "      <td>9.0</td>\n",
       "      <td>Normal</td>\n",
       "    </tr>\n",
       "    <tr>\n",
       "      <th>27024</th>\n",
       "      <td>1</td>\n",
       "      <td>19</td>\n",
       "      <td>1.0</td>\n",
       "      <td>8 a 11 anos</td>\n",
       "      <td>0.0</td>\n",
       "      <td>37 a 41 semanas</td>\n",
       "      <td>Única</td>\n",
       "      <td>4</td>\n",
       "      <td>9.0</td>\n",
       "      <td>Normal</td>\n",
       "    </tr>\n",
       "    <tr>\n",
       "      <th>27025</th>\n",
       "      <td>1</td>\n",
       "      <td>24</td>\n",
       "      <td>2.0</td>\n",
       "      <td>8 a 11 anos</td>\n",
       "      <td>0.0</td>\n",
       "      <td>37 a 41 semanas</td>\n",
       "      <td>Única</td>\n",
       "      <td>4</td>\n",
       "      <td>10.0</td>\n",
       "      <td>Normal</td>\n",
       "    </tr>\n",
       "    <tr>\n",
       "      <th>27026</th>\n",
       "      <td>1</td>\n",
       "      <td>21</td>\n",
       "      <td>2.0</td>\n",
       "      <td>8 a 11 anos</td>\n",
       "      <td>1.0</td>\n",
       "      <td>32 a 36 semanas</td>\n",
       "      <td>Única</td>\n",
       "      <td>4</td>\n",
       "      <td>9.0</td>\n",
       "      <td>Normal</td>\n",
       "    </tr>\n",
       "    <tr>\n",
       "      <th>27027</th>\n",
       "      <td>1</td>\n",
       "      <td>18</td>\n",
       "      <td>5.0</td>\n",
       "      <td>8 a 11 anos</td>\n",
       "      <td>1.0</td>\n",
       "      <td>37 a 41 semanas</td>\n",
       "      <td>Única</td>\n",
       "      <td>4</td>\n",
       "      <td>8.0</td>\n",
       "      <td>Normal</td>\n",
       "    </tr>\n",
       "  </tbody>\n",
       "</table>\n",
       "<p>26925 rows × 10 columns</p>\n",
       "</div>"
      ],
      "text/plain": [
       "       locnasc  idademae  estcivmae           escmae  qtdfilvivo  \\\n",
       "0            1        19        5.0      8 a 11 anos         0.0   \n",
       "1            1        29        2.0      8 a 11 anos         1.0   \n",
       "2            1        37        9.0      8 a 11 anos         2.0   \n",
       "3            1        30        5.0  12 anos ou mais         0.0   \n",
       "4            1        30        2.0      8 a 11 anos         1.0   \n",
       "...        ...       ...        ...              ...         ...   \n",
       "27023        1        32        2.0  12 anos ou mais         1.0   \n",
       "27024        1        19        1.0      8 a 11 anos         0.0   \n",
       "27025        1        24        2.0      8 a 11 anos         0.0   \n",
       "27026        1        21        2.0      8 a 11 anos         1.0   \n",
       "27027        1        18        5.0      8 a 11 anos         1.0   \n",
       "\n",
       "              gestacao gravidez  consultas  apgar5 score_apgar  \n",
       "0      37 a 41 semanas    Única          4    10.0      Normal  \n",
       "1      37 a 41 semanas    Única          4     9.0      Normal  \n",
       "2      37 a 41 semanas    Única          4    10.0      Normal  \n",
       "3      37 a 41 semanas    Única          3    10.0      Normal  \n",
       "4      37 a 41 semanas    Única          4    10.0      Normal  \n",
       "...                ...      ...        ...     ...         ...  \n",
       "27023  32 a 36 semanas    Única          4     9.0      Normal  \n",
       "27024  37 a 41 semanas    Única          4     9.0      Normal  \n",
       "27025  37 a 41 semanas    Única          4    10.0      Normal  \n",
       "27026  32 a 36 semanas    Única          4     9.0      Normal  \n",
       "27027  37 a 41 semanas    Única          4     8.0      Normal  \n",
       "\n",
       "[26925 rows x 10 columns]"
      ]
     },
     "execution_count": 188,
     "metadata": {},
     "output_type": "execute_result"
    }
   ],
   "source": [
    "df_limpo"
   ]
  },
  {
   "cell_type": "code",
   "execution_count": null,
   "metadata": {},
   "outputs": [],
   "source": []
  }
 ],
 "metadata": {
  "kernelspec": {
   "display_name": "Python 3 (ipykernel)",
   "language": "python",
   "name": "python3"
  },
  "language_info": {
   "codemirror_mode": {
    "name": "ipython",
    "version": 3
   },
   "file_extension": ".py",
   "mimetype": "text/x-python",
   "name": "python",
   "nbconvert_exporter": "python",
   "pygments_lexer": "ipython3",
   "version": "3.11.7"
  }
 },
 "nbformat": 4,
 "nbformat_minor": 4
}
